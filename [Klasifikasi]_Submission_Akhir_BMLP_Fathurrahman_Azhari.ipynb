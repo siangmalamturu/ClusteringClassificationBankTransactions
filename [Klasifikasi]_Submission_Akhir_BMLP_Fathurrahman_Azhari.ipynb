{
  "cells": [
    {
      "cell_type": "markdown",
      "metadata": {
        "id": "0tvAKGat01Sd"
      },
      "source": [
        "# **Penting**\n",
        "- Jangan mengubah atau menambahkan cell text yang sudah disediakan, Anda hanya perlu mengerjakan cell code yang sudah disediakan.\n",
        "- Pastikan seluruh kriteria memiliki output yang sesuai, karena jika tidak ada output dianggap tidak selesai.\n",
        "- Misal, Anda menggunakan df = df.dropna() silakan gunakan df.isnull().sum() sebagai tanda sudah berhasil. Silakan sesuaikan seluruh output dengan perintah yang sudah disediakan.\n",
        "- Pastikan Anda melakukan Run All sebelum mengirimkan submission untuk memastikan seluruh cell berjalan dengan baik.\n",
        "- Pastikan Anda menggunakan variabel df dari awal sampai akhir dan tidak diperbolehkan mengganti nama variabel tersebut.\n",
        "- Hapus simbol pagar (#) pada kode yang bertipe komentar jika Anda menerapkan kriteria tambahan\n",
        "- Biarkan simbol pagar (#) jika Anda tidak menerapkan kriteria tambahan\n",
        "- Pastikan Anda mengerjakan sesuai section yang sudah diberikan tanpa mengubah judul atau header yang disediakan."
      ]
    },
    {
      "cell_type": "markdown",
      "metadata": {
        "id": "fKADPWcFKlj3"
      },
      "source": [
        "# **1. Import Library**\n",
        "Pada tahap ini, Anda perlu mengimpor beberapa pustaka (library) Python yang dibutuhkan untuk analisis data dan pembangunan model machine learning."
      ]
    },
    {
      "cell_type": "code",
      "execution_count": 1,
      "metadata": {
        "id": "BlmvjLY9M4Yj"
      },
      "outputs": [],
      "source": [
        "#Type your code here\n",
        "# Untuk manipulasi data\n",
        "import pandas as pd\n",
        "import numpy as np\n",
        "\n",
        "# Untuk visualisasi\n",
        "import matplotlib.pyplot as plt\n",
        "import seaborn as sns\n",
        "\n",
        "# Untuk preprocessing data (akan minimalis karena data sudah preprocessed dari Clustering)\n",
        "from sklearn.preprocessing import LabelEncoder, StandardScaler, MinMaxScaler # Tambahkan MinMaxScaler jika perlu re-scale\n",
        "\n",
        "# Untuk pembagian dataset (train_test_split)\n",
        "from sklearn.model_selection import train_test_split, cross_val_score, KFold, StratifiedKFold # StratifiedKFold untuk imbalance data\n",
        "\n",
        "# Untuk algoritma klasifikasi (sesuai kriteria Skilled/Advanced)\n",
        "from sklearn.tree import DecisionTreeClassifier\n",
        "from sklearn.ensemble import RandomForestClassifier, GradientBoostingClassifier # Contoh algoritma lain\n",
        "from sklearn.svm import SVC\n",
        "from sklearn.naive_bayes import GaussianNB\n",
        "from sklearn.neighbors import KNeighborsClassifier\n",
        "from sklearn.linear_model import LogisticRegression\n",
        "\n",
        "# Untuk evaluasi model\n",
        "from sklearn.metrics import accuracy_score, precision_score, recall_score, f1_score, confusion_matrix, classification_report, roc_curve, auc\n",
        "\n",
        "# Untuk Hyperparameter Tuning (Kriteria Advanced)\n",
        "from sklearn.model_selection import GridSearchCV, RandomizedSearchCV\n",
        "\n",
        "# Untuk menyimpan model .h5\n",
        "import joblib\n",
        "\n",
        "# Menghilangkan warning (opsional, untuk tampilan notebook yang lebih bersih)\n",
        "import warnings\n",
        "warnings.filterwarnings('ignore')\n",
        "\n",
        "# Set style visualisasi (opsional, untuk estetika)\n",
        "sns.set_style(\"whitegrid\")"
      ]
    },
    {
      "cell_type": "markdown",
      "metadata": {
        "id": "f3YIEnAFKrKL"
      },
      "source": [
        "# **2. Memuat Dataset dari Hasil Clustering**\n",
        "Memuat dataset hasil clustering dari file CSV ke dalam variabel DataFrame."
      ]
    },
    {
      "cell_type": "code",
      "execution_count": 2,
      "metadata": {
        "id": "GHCGNTyrM5fS"
      },
      "outputs": [],
      "source": [
        "# Gunakan dataset hasil clustering yang memiliki fitur Target\n",
        "# Silakan gunakan dataset data_clustering jika tidak menerapkan Interpretasi Hasil Clustering [Advanced]\n",
        "# Silakan gunakan dataset data_clustering_inverse jika menerapkan Interpretasi Hasil Clustering [Advanced]\n",
        "# Lengkapi kode berikut\n",
        "# ___ = pd_read_csv(\"___.csv\")\n",
        "\n",
        "# Muat dataset\n",
        "df = pd.read_csv('https://raw.githubusercontent.com/siangmalamturu/Project3/refs/heads/main/data_clustering_inverse.csv')"
      ]
    },
    {
      "cell_type": "code",
      "execution_count": 3,
      "metadata": {
        "colab": {
          "base_uri": "https://localhost:8080/"
        },
        "id": "bCsep0NZ0LUf",
        "outputId": "7727d79d-66d2-4a8d-a43c-2cb4b9e3dba7"
      },
      "outputs": [
        {
          "output_type": "stream",
          "name": "stdout",
          "text": [
            "   TransactionAmount TransactionType   Location Channel  CustomerAge  \\\n",
            "0              14.09           Debit  San Diego     ATM         70.0   \n",
            "1             376.24           Debit    Houston     ATM         68.0   \n",
            "2             126.29           Debit       Mesa  Online         19.0   \n",
            "3             184.50           Debit    Raleigh  Online         26.0   \n",
            "4              13.45           Debit    Atlanta  Online         45.0   \n",
            "\n",
            "  CustomerOccupation  TransactionDuration  LoginAttempts  AccountBalance  \\\n",
            "0             Doctor                 81.0            1.0         5112.21   \n",
            "1             Doctor                141.0            1.0        13758.91   \n",
            "2            Student                 56.0            1.0         1122.35   \n",
            "3            Student                 25.0            1.0         8569.06   \n",
            "4            Student                198.0            1.0         7429.40   \n",
            "\n",
            "   TransactionAmount_Category_Encoded  Target  \n",
            "0                                   0       2  \n",
            "1                                   0       3  \n",
            "2                                   0       0  \n",
            "3                                   0       2  \n",
            "4                                   0       1  \n",
            "\n",
            "==================================================\n",
            "\n"
          ]
        }
      ],
      "source": [
        "# Tampilkan 5 baris pertama dengan function head.\n",
        "print(df.head())\n",
        "print(\"\\n\" + \"=\"*50 + \"\\n\")"
      ]
    },
    {
      "cell_type": "code",
      "execution_count": 4,
      "metadata": {
        "colab": {
          "base_uri": "https://localhost:8080/"
        },
        "id": "RDjfYdbasRF3",
        "outputId": "c34fccae-1a6e-423b-da04-946a22b0f4fe"
      },
      "outputs": [
        {
          "output_type": "stream",
          "name": "stdout",
          "text": [
            "Fitur (X) dan Target (y) berhasil dipisahkan.\n",
            "Bentuk X: (2513, 10)\n",
            "Bentuk y: (2513,)\n",
            "\n",
            "Distribusi kelas target (y):\n",
            "Target\n",
            "2    0.276164\n",
            "0    0.266614\n",
            "3    0.235575\n",
            "1    0.221647\n",
            "Name: proportion, dtype: float64\n",
            "\n",
            "==================================================\n",
            "\n",
            "Melakukan encoding fitur kategorikal (jika ada) dan verifikasi data:\n",
            "\n",
            "  Meng-encode fitur kategorikal:\n",
            "    Kolom 'TransactionType' di-encode.\n",
            "    Kolom 'Location' di-encode.\n",
            "    Kolom 'Channel' di-encode.\n",
            "    Kolom 'CustomerOccupation' di-encode.\n",
            "\n",
            "Melakukan penskalaan ulang fitur numerik (StandardScaler):\n",
            "  Fitur numerik setelah penskalaan (head):\n",
            "   TransactionAmount  TransactionType  Location   Channel  CustomerAge  \\\n",
            "0          -1.079941              0.0  1.188149 -1.216533     1.430203   \n",
            "1           0.371085              0.0 -0.506505 -1.216533     1.317452   \n",
            "2          -0.630390              0.0  0.139078  1.190670    -1.444942   \n",
            "3          -0.397160              0.0  0.946056  1.190670    -1.050314   \n",
            "4          -1.082505              0.0 -1.636274  1.190670     0.020818   \n",
            "\n",
            "   CustomerOccupation  TransactionDuration  LoginAttempts  AccountBalance  \\\n",
            "0           -1.330007            -0.552634            0.0       -0.000525   \n",
            "1           -1.330007             0.308921            0.0        2.229544   \n",
            "2            1.278454            -0.911615            0.0       -1.029549   \n",
            "3            1.278454            -1.356752            0.0        0.891031   \n",
            "4            1.278454             1.127398            0.0        0.597101   \n",
            "\n",
            "   TransactionAmount_Category_Encoded  \n",
            "0                                 0.0  \n",
            "1                                 0.0  \n",
            "2                                 0.0  \n",
            "3                                 0.0  \n",
            "4                                 0.0  \n",
            "\n",
            "Verifikasi tipe data setelah preprocessing untuk Klasifikasi:\n",
            "<class 'pandas.core.frame.DataFrame'>\n",
            "RangeIndex: 2513 entries, 0 to 2512\n",
            "Data columns (total 10 columns):\n",
            " #   Column                              Non-Null Count  Dtype  \n",
            "---  ------                              --------------  -----  \n",
            " 0   TransactionAmount                   2513 non-null   float64\n",
            " 1   TransactionType                     2513 non-null   float64\n",
            " 2   Location                            2513 non-null   float64\n",
            " 3   Channel                             2513 non-null   float64\n",
            " 4   CustomerAge                         2513 non-null   float64\n",
            " 5   CustomerOccupation                  2513 non-null   float64\n",
            " 6   TransactionDuration                 2513 non-null   float64\n",
            " 7   LoginAttempts                       2513 non-null   float64\n",
            " 8   AccountBalance                      2513 non-null   float64\n",
            " 9   TransactionAmount_Category_Encoded  2513 non-null   float64\n",
            "dtypes: float64(10)\n",
            "memory usage: 196.5 KB\n",
            "None\n",
            "\n",
            "DataFrame X setelah Preprocessing Klasifikasi Final (head):\n",
            "   TransactionAmount  TransactionType  Location   Channel  CustomerAge  \\\n",
            "0          -1.079941              0.0  1.188149 -1.216533     1.430203   \n",
            "1           0.371085              0.0 -0.506505 -1.216533     1.317452   \n",
            "2          -0.630390              0.0  0.139078  1.190670    -1.444942   \n",
            "3          -0.397160              0.0  0.946056  1.190670    -1.050314   \n",
            "4          -1.082505              0.0 -1.636274  1.190670     0.020818   \n",
            "\n",
            "   CustomerOccupation  TransactionDuration  LoginAttempts  AccountBalance  \\\n",
            "0           -1.330007            -0.552634            0.0       -0.000525   \n",
            "1           -1.330007             0.308921            0.0        2.229544   \n",
            "2            1.278454            -0.911615            0.0       -1.029549   \n",
            "3            1.278454            -1.356752            0.0        0.891031   \n",
            "4            1.278454             1.127398            0.0        0.597101   \n",
            "\n",
            "   TransactionAmount_Category_Encoded  \n",
            "0                                 0.0  \n",
            "1                                 0.0  \n",
            "2                                 0.0  \n",
            "3                                 0.0  \n",
            "4                                 0.0  \n",
            "\n",
            "==================================================\n",
            "\n"
          ]
        }
      ],
      "source": [
        "# 1. Pemisahan Fitur (X) dan Target (y)\n",
        "X = df.drop(columns=['Target']) # X adalah semua fitur, tanpa kolom 'Target'\n",
        "y = df['Target'] # y adalah kolom 'Target' (label cluster)\n",
        "\n",
        "print(\"Fitur (X) dan Target (y) berhasil dipisahkan.\")\n",
        "print(f\"Bentuk X: {X.shape}\")\n",
        "print(f\"Bentuk y: {y.shape}\")\n",
        "\n",
        "print(\"\\nDistribusi kelas target (y):\")\n",
        "print(y.value_counts(normalize=True))\n",
        "\n",
        "print(\"\\n\" + \"=\"*50 + \"\\n\")\n",
        "\n",
        "\n",
        "# 2. Encoding Fitur Kategorikal (Jika Ada)\n",
        "# Ini penting karena data_clustering_inverse.csv mengembalikan fitur kategorikal ke string.\n",
        "print(\"Melakukan encoding fitur kategorikal (jika ada) dan verifikasi data:\")\n",
        "categorical_cols_for_encoding_clas_final = X.select_dtypes(include='object').columns.tolist()\n",
        "\n",
        "# Simpan encoder baru untuk klasifikasi jika diperlukan untuk interpretasi nanti\n",
        "label_encoders_clas = {}\n",
        "\n",
        "if categorical_cols_for_encoding_clas_final:\n",
        "    print(\"\\n  Meng-encode fitur kategorikal:\")\n",
        "    for col in categorical_cols_for_encoding_clas_final:\n",
        "        le = LabelEncoder()\n",
        "        X[col] = le.fit_transform(X[col])\n",
        "        label_encoders_clas[col] = le # Simpan encoder\n",
        "        print(f\"    Kolom '{col}' di-encode.\")\n",
        "else:\n",
        "    print(\"\\n  Tidak ada fitur kategorikal (object) yang perlu di-encode ulang.\")\n",
        "\n",
        "# 3. Penskalaan Ulang Fitur Numerik (Opsional, tapi umum untuk model sensitif skala)\n",
        "# Meskipun data sudah di-inverse transform ke skala asli, model tertentu (misal SVM, KNN, Logistic Regression)\n",
        "# mungkin bekerja lebih baik dengan fitur yang diskalakan ulang (misal StandardScaler).\n",
        "# Kita akan lakukan scaling di sini agar X_train/X_test sudah bersih dan siap untuk semua model.\n",
        "print(\"\\nMelakukan penskalaan ulang fitur numerik (StandardScaler):\")\n",
        "numeric_cols_for_scaling_clas_final = X.select_dtypes(include=np.number).columns.tolist()\n",
        "scaler_clas = StandardScaler() # StandardScaler umum untuk model sensitif skala\n",
        "\n",
        "if numeric_cols_for_scaling_clas_final:\n",
        "    X[numeric_cols_for_scaling_clas_final] = scaler_clas.fit_transform(X[numeric_cols_for_scaling_clas_final])\n",
        "    print(\"  Fitur numerik setelah penskalaan (head):\")\n",
        "    print(X[numeric_cols_for_scaling_clas_final].head())\n",
        "else:\n",
        "    print(\"  Tidak ada fitur numerik yang perlu diskalakan ulang.\")\n",
        "\n",
        "print(\"\\nVerifikasi tipe data setelah preprocessing untuk Klasifikasi:\")\n",
        "print(X.info())\n",
        "print(\"\\nDataFrame X setelah Preprocessing Klasifikasi Final (head):\")\n",
        "print(X.head())\n",
        "\n",
        "print(\"\\n\" + \"=\"*50 + \"\\n\")"
      ]
    },
    {
      "cell_type": "markdown",
      "metadata": {
        "id": "KkPem5eWL2UP"
      },
      "source": [
        "# **3. Data Splitting**\n",
        "Tahap Data Splitting bertujuan untuk memisahkan dataset menjadi dua bagian: data latih (training set) dan data uji (test set)."
      ]
    },
    {
      "cell_type": "code",
      "execution_count": 5,
      "metadata": {
        "colab": {
          "base_uri": "https://localhost:8080/"
        },
        "id": "OubAW-7ONKVj",
        "outputId": "a49ac09e-78f9-42d9-f93a-9b871f0b4126"
      },
      "outputs": [
        {
          "output_type": "stream",
          "name": "stdout",
          "text": [
            "Ukuran X_train: (2010, 10)\n",
            "Ukuran X_test: (503, 10)\n",
            "Ukuran y_train: (2010,)\n",
            "Ukuran y_test: (503,)\n",
            "\n",
            "Proporsi kelas di y_train:\n",
            "Target\n",
            "2    0.276119\n",
            "0    0.266667\n",
            "3    0.235323\n",
            "1    0.221891\n",
            "Name: proportion, dtype: float64\n",
            "\n",
            "Proporsi kelas di y_test:\n",
            "Target\n",
            "2    0.276342\n",
            "0    0.266402\n",
            "3    0.236581\n",
            "1    0.220676\n",
            "Name: proportion, dtype: float64\n",
            "\n",
            "==================================================\n",
            "\n"
          ]
        }
      ],
      "source": [
        "# Menggunakan train_test_split() untuk melakukan pembagian dataset.\n",
        "\n",
        "# Menggunakan penamaan terformat pada target dari dataset yaitu Target.\n",
        "\n",
        "# X dan y sudah siap dari bagian 4. Data Preprocessing\n",
        "\n",
        "# Membagi dataset menjadi training dan testing set\n",
        "X_train, X_test, y_train, y_test = train_test_split(\n",
        "    X, y, test_size=0.2, random_state=42, stratify=y\n",
        ")\n",
        "\n",
        "print(f\"Ukuran X_train: {X_train.shape}\")\n",
        "print(f\"Ukuran X_test: {X_test.shape}\")\n",
        "print(f\"Ukuran y_train: {y_train.shape}\")\n",
        "print(f\"Ukuran y_test: {y_test.shape}\")\n",
        "\n",
        "print(\"\\nProporsi kelas di y_train:\")\n",
        "print(y_train.value_counts(normalize=True))\n",
        "print(\"\\nProporsi kelas di y_test:\")\n",
        "print(y_test.value_counts(normalize=True))\n",
        "\n",
        "print(\"\\n\" + \"=\"*50 + \"\\n\")"
      ]
    },
    {
      "cell_type": "markdown",
      "metadata": {
        "id": "IVPbB03CMhTT"
      },
      "source": [
        "# **4. Membangun Model Klasifikasi**\n",
        "Setelah memilih algoritma klasifikasi yang sesuai, langkah selanjutnya adalah melatih model menggunakan data latih.\n",
        "\n",
        "Berikut adalah rekomendasi tahapannya.\n",
        "1. Menggunakan algoritma klasifikasi yaitu Decision Tree.\n",
        "2. Latih model menggunakan data yang sudah dipisah."
      ]
    },
    {
      "cell_type": "code",
      "execution_count": 6,
      "metadata": {
        "colab": {
          "base_uri": "https://localhost:8080/",
          "height": 1000
        },
        "id": "4JYxBe87NLDk",
        "outputId": "1edee8b0-8ab5-48f2-ade6-27114bbe6737"
      },
      "outputs": [
        {
          "output_type": "stream",
          "name": "stdout",
          "text": [
            "Melatih model Decision Tree...\n",
            "Model Decision Tree selesai dilatih.\n",
            "\n",
            "--- Evaluasi Model Decision Tree ---\n",
            "Akurasi: 1.0000\n",
            "Presisi (weighted): 1.0000\n",
            "Recall (weighted): 1.0000\n",
            "F1-Score (weighted): 1.0000\n",
            "\n",
            "Classification Report:\n",
            "              precision    recall  f1-score   support\n",
            "\n",
            "           0       1.00      1.00      1.00       134\n",
            "           1       1.00      1.00      1.00       111\n",
            "           2       1.00      1.00      1.00       139\n",
            "           3       1.00      1.00      1.00       119\n",
            "\n",
            "    accuracy                           1.00       503\n",
            "   macro avg       1.00      1.00      1.00       503\n",
            "weighted avg       1.00      1.00      1.00       503\n",
            "\n",
            "\n",
            "Confusion Matrix:\n"
          ]
        },
        {
          "output_type": "display_data",
          "data": {
            "text/plain": [
              "<Figure size 800x600 with 1 Axes>"
            ],
            "image/png": "[encoded data removed]"
          },
          "metadata": {}
        },
        {
          "output_type": "stream",
          "name": "stdout",
          "text": [
            "\n",
            "==================================================\n",
            "\n"
          ]
        }
      ],
      "source": [
        "# Buatlah model klasifikasi menggunakan Decision Tree\n",
        "dt_model = DecisionTreeClassifier(random_state=42)\n",
        "\n",
        "print(\"Melatih model Decision Tree...\")\n",
        "dt_model.fit(X_train, y_train)\n",
        "print(\"Model Decision Tree selesai dilatih.\")\n",
        "\n",
        "y_pred_dt = dt_model.predict(X_test)\n",
        "\n",
        "print(\"\\n--- Evaluasi Model Decision Tree ---\")\n",
        "print(f\"Akurasi: {accuracy_score(y_test, y_pred_dt):.4f}\")\n",
        "print(f\"Presisi (weighted): {precision_score(y_test, y_pred_dt, average='weighted'):.4f}\")\n",
        "print(f\"Recall (weighted): {recall_score(y_test, y_pred_dt, average='weighted'):.4f}\")\n",
        "print(f\"F1-Score (weighted): {f1_score(y_test, y_pred_dt, average='weighted'):.4f}\")\n",
        "\n",
        "print(\"\\nClassification Report:\")\n",
        "print(classification_report(y_test, y_pred_dt))\n",
        "\n",
        "print(\"\\nConfusion Matrix:\")\n",
        "cm_dt = confusion_matrix(y_test, y_pred_dt)\n",
        "plt.figure(figsize=(8, 6))\n",
        "sns.heatmap(cm_dt, annot=True, fmt='d', cmap='Blues', cbar=False,\n",
        "            xticklabels=[f'Cluster {i}' for i in sorted(y.unique())],\n",
        "            yticklabels=[f'Cluster {i}' for i in sorted(y.unique())])\n",
        "plt.xlabel('Prediksi')\n",
        "plt.ylabel('Aktual')\n",
        "plt.title('Confusion Matrix - Decision Tree')\n",
        "plt.show()\n",
        "\n",
        "print(\"\\n\" + \"=\"*50 + \"\\n\")"
      ]
    },
    {
      "cell_type": "code",
      "execution_count": 7,
      "metadata": {
        "colab": {
          "base_uri": "https://localhost:8080/"
        },
        "id": "P_AakAxghYv-",
        "outputId": "c5ea2663-ed86-48db-905d-f79b5a6f637f"
      },
      "outputs": [
        {
          "output_type": "stream",
          "name": "stdout",
          "text": [
            "Model Decision Tree berhasil disimpan sebagai 'decision_tree_model.h5'.\n",
            "\n",
            "==================================================\n",
            "\n"
          ]
        }
      ],
      "source": [
        "# Menyimpan Model\n",
        "# import joblib\n",
        "# joblib.dump(model, 'decision_tree_model.h5')\n",
        "joblib.dump(dt_model, 'decision_tree_model.h5')\n",
        "print(\"Model Decision Tree berhasil disimpan sebagai 'decision_tree_model.h5'.\")\n",
        "\n",
        "print(\"\\n\" + \"=\"*50 + \"\\n\")"
      ]
    },
    {
      "cell_type": "markdown",
      "metadata": {
        "id": "epO4HhrzBXMg"
      },
      "source": [
        "# **5. Memenuhi Kriteria Skilled dan Advanced dalam Membangun Model Klasifikasi**\n",
        "\n"
      ]
    },
    {
      "cell_type": "markdown",
      "metadata": {
        "id": "DNOEZk24uiXu"
      },
      "source": [
        "**Biarkan kosong jika tidak menerapkan kriteria skilled atau advanced**"
      ]
    },
    {
      "cell_type": "code",
      "execution_count": 8,
      "metadata": {
        "colab": {
          "base_uri": "https://localhost:8080/"
        },
        "id": "kB_8LIWMATl6",
        "outputId": "e858b976-d1eb-42fe-9c1c-ce0b83f09d2f"
      },
      "outputs": [
        {
          "output_type": "stream",
          "name": "stdout",
          "text": [
            "Melatih dan mengevaluasi algoritma klasifikasi lain:\n",
            "\n",
            "--- Melatih Model: Logistic Regression ---\n",
            "  Akurasi: 0.9920\n",
            "  Presisi (weighted): 0.9920\n",
            "  Recall (weighted): 0.9920\n",
            "  F1-Score (weighted): 0.9920\n",
            "\n",
            "--- Melatih Model: K-Nearest Neighbors ---\n",
            "  Akurasi: 0.7773\n",
            "  Presisi (weighted): 0.7781\n",
            "  Recall (weighted): 0.7773\n",
            "  F1-Score (weighted): 0.7748\n",
            "\n",
            "--- Melatih Model: Support Vector Machine ---\n",
            "  Akurasi: 0.9503\n",
            "  Presisi (weighted): 0.9514\n",
            "  Recall (weighted): 0.9503\n",
            "  F1-Score (weighted): 0.9505\n",
            "\n",
            "--- Melatih Model: Naive Bayes ---\n",
            "  Akurasi: 0.9980\n",
            "  Presisi (weighted): 0.9980\n",
            "  Recall (weighted): 0.9980\n",
            "  F1-Score (weighted): 0.9980\n",
            "\n",
            "--- Melatih Model: Random Forest ---\n",
            "  Akurasi: 1.0000\n",
            "  Presisi (weighted): 1.0000\n",
            "  Recall (weighted): 1.0000\n",
            "  F1-Score (weighted): 1.0000\n",
            "\n",
            "==================================================\n",
            "\n"
          ]
        }
      ],
      "source": [
        "# Melatih model menggunakan algoritma klasifikasi selain Decision Tree.\n",
        "\n",
        "# Inisialisasi model-model lain\n",
        "models = {\n",
        "    'Logistic Regression': LogisticRegression(random_state=42),\n",
        "    'K-Nearest Neighbors': KNeighborsClassifier(),\n",
        "    'Support Vector Machine': SVC(random_state=42, probability=True), # probability=True untuk ROC curve\n",
        "    'Naive Bayes': GaussianNB(),\n",
        "    'Random Forest': RandomForestClassifier(random_state=42)\n",
        "}\n",
        "\n",
        "# Dictionary untuk menyimpan hasil evaluasi\n",
        "results = {}\n",
        "trained_models = {}\n",
        "\n",
        "print(\"Melatih dan mengevaluasi algoritma klasifikasi lain:\")\n",
        "for name, model in models.items():\n",
        "    print(f\"\\n--- Melatih Model: {name} ---\")\n",
        "\n",
        "    # Untuk model yang sensitif skala (LR, KNN, SVM), data X_train/X_test sudah diskalakan di 4.2.\n",
        "    # Untuk Decision Tree, Random Forest, Naive Bayes tidak terlalu membutuhkan scaling.\n",
        "    # Kita menggunakan X_train dan X_test yang sudah melalui proses penskalaan di 4.2\n",
        "\n",
        "    model.fit(X_train, y_train) # X_train sudah siap dari 4.2\n",
        "    y_pred = model.predict(X_test) # X_test sudah siap dari 4.2\n",
        "\n",
        "    accuracy = accuracy_score(y_test, y_pred)\n",
        "    precision = precision_score(y_test, y_pred, average='weighted')\n",
        "    recall = recall_score(y_test, y_pred, average='weighted')\n",
        "    f1 = f1_score(y_test, y_pred, average='weighted')\n",
        "\n",
        "    results[name] = {'accuracy': accuracy, 'precision': precision, 'recall': recall, 'f1_score': f1}\n",
        "    trained_models[name] = model # Simpan model yang sudah dilatih\n",
        "\n",
        "    print(f\"  Akurasi: {accuracy:.4f}\")\n",
        "    print(f\"  Presisi (weighted): {precision:.4f}\")\n",
        "    print(f\"  Recall (weighted): {recall:.4f}\")\n",
        "    print(f\"  F1-Score (weighted): {f1:.4f}\")\n",
        "\n",
        "print(\"\\n\" + \"=\"*50 + \"\\n\")"
      ]
    },
    {
      "cell_type": "code",
      "execution_count": 9,
      "metadata": {
        "colab": {
          "base_uri": "https://localhost:8080/"
        },
        "id": "bRlKm5BVAT91",
        "outputId": "ec0e4f52-e488-405b-bf5b-ea06aa7574bf"
      },
      "outputs": [
        {
          "output_type": "stream",
          "name": "stdout",
          "text": [
            "Ringkasan Evaluasi Seluruh Model:\n",
            "                        accuracy  precision    recall  f1_score\n",
            "Logistic Regression     0.992048   0.992050  0.992048  0.992041\n",
            "K-Nearest Neighbors     0.777336   0.778092  0.777336  0.774757\n",
            "Support Vector Machine  0.950298   0.951363  0.950298  0.950463\n",
            "Naive Bayes             0.998012   0.998027  0.998012  0.998012\n",
            "Random Forest           1.000000   1.000000  1.000000  1.000000\n",
            "\n",
            "Model terbaik berdasarkan F1-Score adalah: Random Forest\n",
            "Kinerja model terbaik:\n",
            "accuracy     1.0\n",
            "precision    1.0\n",
            "recall       1.0\n",
            "f1_score     1.0\n",
            "Name: Random Forest, dtype: float64\n",
            "\n",
            "==================================================\n",
            "\n"
          ]
        }
      ],
      "source": [
        "# Menampilkan hasil evaluasi akurasi, presisi, recall, dan F1-Score pada seluruh algoritma yang sudah dibuat.\n",
        "print(\"Ringkasan Evaluasi Seluruh Model:\")\n",
        "results_df = pd.DataFrame(results).T # Transpose DataFrame untuk tampilan yang lebih baik\n",
        "print(results_df)\n",
        "\n",
        "# Identifikasi model terbaik berdasarkan F1-Score (atau metrik lain yang Anda prioritaskan)\n",
        "best_model_name = results_df['f1_score'].idxmax()\n",
        "best_model_performance = results_df.loc[best_model_name]\n",
        "\n",
        "print(f\"\\nModel terbaik berdasarkan F1-Score adalah: {best_model_name}\")\n",
        "print(f\"Kinerja model terbaik:\\n{best_model_performance}\")\n",
        "\n",
        "print(\"\\n\" + \"=\"*50 + \"\\n\")"
      ]
    },
    {
      "cell_type": "code",
      "execution_count": 10,
      "metadata": {
        "colab": {
          "base_uri": "https://localhost:8080/"
        },
        "id": "dUPItkbXBNkO",
        "outputId": "e6060c28-0894-4141-bb9c-4deb5f1fefc2"
      },
      "outputs": [
        {
          "output_type": "stream",
          "name": "stdout",
          "text": [
            "Model terbaik dari eksplorasi (Random Forest) berhasil disimpan sebagai 'explore_random_forest_classification.h5'.\n",
            "\n",
            "==================================================\n",
            "\n"
          ]
        }
      ],
      "source": [
        "# Menyimpan Model Selain Decision Tree\n",
        "# Model ini bisa lebih dari satu\n",
        "# import joblib\n",
        "# joblib.dump(___, 'explore_<Nama Algoritma>_classification.h5')\n",
        "\n",
        "# Simpan model terbaik dari fase eksplorasi\n",
        "best_explored_model = trained_models[best_model_name]\n",
        "explore_model_filename = f'explore_{best_model_name.replace(\" \", \"_\").lower()}_classification.h5' # Ganti spasi dengan underscore dan lowercase\n",
        "joblib.dump(best_explored_model, explore_model_filename)\n",
        "print(f\"Model terbaik dari eksplorasi ({best_model_name}) berhasil disimpan sebagai '{explore_model_filename}'.\")\n",
        "\n",
        "print(\"\\n\" + \"=\"*50 + \"\\n\")"
      ]
    },
    {
      "cell_type": "markdown",
      "metadata": {
        "id": "u23H2guj-h9h"
      },
      "source": [
        "Hyperparameter Tuning Model\n",
        "\n",
        "Pilih salah satu algoritma yang ingin Anda tuning"
      ]
    },
    {
      "cell_type": "code",
      "execution_count": 11,
      "metadata": {
        "colab": {
          "base_uri": "https://localhost:8080/"
        },
        "id": "dFCTxJJq-m-l",
        "outputId": "ec46a689-c942-450a-dba9-c05524c5bca8"
      },
      "outputs": [
        {
          "output_type": "stream",
          "name": "stdout",
          "text": [
            "Melakukan Hyperparameter Tuning pada model terbaik: Random Forest\n",
            "Fitting 5 folds for each of 36 candidates, totalling 180 fits\n",
            "\n",
            "Hyperparameter tuning selesai untuk Random Forest.\n",
            "Parameter terbaik: {'max_depth': None, 'min_samples_leaf': 1, 'min_samples_split': 2, 'n_estimators': 50}\n",
            "Skor F1 terbaik dari Cross-Validation: 1.0000\n",
            "Model hasil tuning berhasil disimpan sebagai 'tuning_classification.h5'.\n",
            "\n",
            "==================================================\n",
            "\n"
          ]
        }
      ],
      "source": [
        "# Lakukan Hyperparameter Tuning dan Latih ulang.\n",
        "# Lakukan dalam satu cell ini saja.\n",
        "\n",
        "print(f\"Melakukan Hyperparameter Tuning pada model terbaik: {best_model_name}\")\n",
        "\n",
        "# Pilih model terbaik untuk tuning\n",
        "model_to_tune = trained_models[best_model_name]\n",
        "\n",
        "# Definisikan parameter grid untuk tuning.\n",
        "# Contoh parameter grid (sesuaikan jika model terbaik Anda berbeda)\n",
        "if best_model_name == 'Random Forest':\n",
        "    param_grid = {\n",
        "        'n_estimators': [50, 100, 150],\n",
        "        'max_depth': [None, 10, 20],\n",
        "        'min_samples_split': [2, 5],\n",
        "        'min_samples_leaf': [1, 2]\n",
        "    }\n",
        "    tuned_model_type = RandomForestClassifier\n",
        "elif best_model_name == 'Decision Tree':\n",
        "    param_grid = {\n",
        "        'max_depth': [3, 5, 7, None],\n",
        "        'min_samples_split': [2, 5, 10],\n",
        "        'min_samples_leaf': [1, 3, 5]\n",
        "    }\n",
        "    tuned_model_type = DecisionTreeClassifier\n",
        "elif best_model_name == 'Logistic Regression':\n",
        "    param_grid = {\n",
        "        'C': [0.1, 1, 10],\n",
        "        'solver': ['liblinear', 'lbfgs']\n",
        "    }\n",
        "    tuned_model_type = LogisticRegression\n",
        "elif best_model_name == 'K-Nearest Neighbors':\n",
        "    param_grid = {\n",
        "        'n_neighbors': [3, 5, 7],\n",
        "        'weights': ['uniform', 'distance']\n",
        "    }\n",
        "    tuned_model_type = KNeighborsClassifier\n",
        "elif best_model_name == 'Support Vector Machine':\n",
        "    param_grid = {\n",
        "        'C': [0.1, 1, 10],\n",
        "        'kernel': ['linear', 'rbf']\n",
        "    }\n",
        "    tuned_model_type = SVC\n",
        "elif best_model_name == 'Naive Bayes': # GaussianNB biasanya tidak punya banyak hyperparameter tuning yang signifikan\n",
        "    param_grid = {} # Tidak ada tuning parameter utama, bisa kosong atau parameter kecil\n",
        "    tuned_model_type = GaussianNB\n",
        "\n",
        "else:\n",
        "    print(f\"Parameter grid default digunakan untuk '{best_model_name}'.\")\n",
        "    param_grid = {} # Grid kosong jika model tidak dikenal atau tidak ada tuning\n",
        "\n",
        "# Inisialisasi GridSearchCV\n",
        "# cv=StratifiedKFold untuk menjaga proporsi kelas\n",
        "kf = StratifiedKFold(n_splits=5, shuffle=True, random_state=42)\n",
        "\n",
        "# Buat instance model baru untuk tuning\n",
        "# Pastikan random_state di set jika model mendukung\n",
        "if hasattr(tuned_model_type, 'random_state'):\n",
        "    tuned_model_instance = tuned_model_type(random_state=42)\n",
        "else:\n",
        "    tuned_model_instance = tuned_model_type()\n",
        "\n",
        "grid_search = GridSearchCV(\n",
        "    estimator=tuned_model_instance,\n",
        "    param_grid=param_grid,\n",
        "    cv=kf,\n",
        "    scoring='f1_weighted', # Metrik scoring yang akan dioptimalkan\n",
        "    n_jobs=-1, # Menggunakan semua core CPU\n",
        "    verbose=1 # Menampilkan progress\n",
        ")\n",
        "\n",
        "# Latih GridSearchCV\n",
        "# X_train sudah melalui preprocessing final di 4.2\n",
        "grid_search.fit(X_train, y_train)\n",
        "\n",
        "# Dapatkan parameter terbaik\n",
        "best_params = grid_search.best_params_\n",
        "best_score = grid_search.best_score_\n",
        "tuned_model = grid_search.best_estimator_ # Model dengan parameter terbaik setelah tuning\n",
        "\n",
        "print(f\"\\nHyperparameter tuning selesai untuk {best_model_name}.\")\n",
        "print(f\"Parameter terbaik: {best_params}\")\n",
        "print(f\"Skor F1 terbaik dari Cross-Validation: {best_score:.4f}\")\n",
        "\n",
        "# Simpan model yang sudah dituning\n",
        "joblib.dump(tuned_model, 'tuning_classification.h5')\n",
        "print(\"Model hasil tuning berhasil disimpan sebagai 'tuning_classification.h5'.\")\n",
        "\n",
        "print(\"\\n\" + \"=\"*50 + \"\\n\")"
      ]
    },
    {
      "cell_type": "code",
      "execution_count": 12,
      "metadata": {
        "colab": {
          "base_uri": "https://localhost:8080/",
          "height": 963
        },
        "id": "1g6EPSSWxjcQ",
        "outputId": "2435e498-9ea4-468b-d293-000541523f7f"
      },
      "outputs": [
        {
          "output_type": "stream",
          "name": "stdout",
          "text": [
            "--- Evaluasi Model Hasil Tuning: Random Forest ---\n",
            "Akurasi (Tuned): 1.0000\n",
            "Presisi (weighted, Tuned): 1.0000\n",
            "Recall (weighted, Tuned): 1.0000\n",
            "F1-Score (weighted, Tuned): 1.0000\n",
            "\n",
            "Classification Report (Tuned Model):\n",
            "              precision    recall  f1-score   support\n",
            "\n",
            "           0       1.00      1.00      1.00       134\n",
            "           1       1.00      1.00      1.00       111\n",
            "           2       1.00      1.00      1.00       139\n",
            "           3       1.00      1.00      1.00       119\n",
            "\n",
            "    accuracy                           1.00       503\n",
            "   macro avg       1.00      1.00      1.00       503\n",
            "weighted avg       1.00      1.00      1.00       503\n",
            "\n",
            "\n",
            "Confusion Matrix (Tuned Model):\n"
          ]
        },
        {
          "output_type": "display_data",
          "data": {
            "text/plain": [
              "<Figure size 800x600 with 1 Axes>"
            ],
            "image/png": "[encoded data removed]"
          },
          "metadata": {}
        },
        {
          "output_type": "stream",
          "name": "stdout",
          "text": [
            "\n",
            "==================================================\n",
            "\n"
          ]
        }
      ],
      "source": [
        "# Menampilkan hasil evaluasi akurasi, presisi, recall, dan F1-Score pada algoritma yang sudah dituning.\n",
        "\n",
        "print(f\"--- Evaluasi Model Hasil Tuning: {best_model_name} ---\")\n",
        "\n",
        "# Prediksi pada data uji (X_test) menggunakan model yang sudah dituning\n",
        "# X_test juga sudah melalui preprocessing final di 4.2\n",
        "y_pred_tuned = tuned_model.predict(X_test)\n",
        "\n",
        "accuracy_tuned = accuracy_score(y_test, y_pred_tuned)\n",
        "precision_tuned = precision_score(y_test, y_pred_tuned, average='weighted')\n",
        "recall_tuned = recall_score(y_test, y_pred_tuned, average='weighted')\n",
        "f1_tuned = f1_score(y_test, y_pred_tuned, average='weighted')\n",
        "\n",
        "print(f\"Akurasi (Tuned): {accuracy_tuned:.4f}\")\n",
        "print(f\"Presisi (weighted, Tuned): {precision_tuned:.4f}\")\n",
        "print(f\"Recall (weighted, Tuned): {recall_tuned:.4f}\")\n",
        "print(f\"F1-Score (weighted, Tuned): {f1_tuned:.4f}\")\n",
        "\n",
        "print(\"\\nClassification Report (Tuned Model):\")\n",
        "print(classification_report(y_test, y_pred_tuned))\n",
        "\n",
        "print(\"\\nConfusion Matrix (Tuned Model):\")\n",
        "cm_tuned = confusion_matrix(y_test, y_pred_tuned)\n",
        "plt.figure(figsize=(8, 6))\n",
        "sns.heatmap(cm_tuned, annot=True, fmt='d', cmap='Blues', cbar=False,\n",
        "            xticklabels=[f'Cluster {i}' for i in sorted(y.unique())],\n",
        "            yticklabels=[f'Cluster {i}' for i in sorted(y.unique())])\n",
        "plt.xlabel('Prediksi')\n",
        "plt.ylabel('Aktual')\n",
        "plt.title(f'Confusion Matrix - {best_model_name} (Tuned)')\n",
        "plt.show()\n",
        "\n",
        "print(\"\\n\" + \"=\"*50 + \"\\n\")"
      ]
    },
    {
      "cell_type": "code",
      "execution_count": 13,
      "metadata": {
        "colab": {
          "base_uri": "https://localhost:8080/"
        },
        "id": "7UJNcVP--n7S",
        "outputId": "6d6019c2-41e3-4e84-e743-2b390c6ebbb1"
      },
      "outputs": [
        {
          "output_type": "stream",
          "name": "stdout",
          "text": [
            "Model hasil tuning sudah disimpan sebagai 'tuning_classification.h5' di bagian 5.7.\n",
            "\n",
            "==================================================\n",
            "\n"
          ]
        }
      ],
      "source": [
        "# Menyimpan Model hasil tuning\n",
        "# import joblib\n",
        "# joblib.dump(__, 'tuning_classification.h5')\n",
        "\n",
        "# Model hasil tuning sudah disimpan di cell 5.7. Ini hanya untuk memastikan kriteria terpenuhi.\n",
        "print(\"Model hasil tuning sudah disimpan sebagai 'tuning_classification.h5' di bagian 5.7.\")\n",
        "\n",
        "print(\"\\n\" + \"=\"*50 + \"\\n\")"
      ]
    },
    {
      "cell_type": "markdown",
      "metadata": {
        "id": "0Hs4Xp4OiGEk"
      },
      "source": [
        "End of Code"
      ]
    }
  ],
  "metadata": {
    "accelerator": "GPU",
    "colab": {
      "gpuType": "T4",
      "provenance": []
    },
    "kernelspec": {
      "display_name": "Python 3",
      "name": "python3"
    },
    "language_info": {
      "name": "python"
    }
  },
  "nbformat": 4,
  "nbformat_minor": 0
}